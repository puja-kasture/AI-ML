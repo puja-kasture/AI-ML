{
 "cells": [
  {
   "cell_type": "markdown",
   "metadata": {},
   "source": [
    "# Question 1\n",
    "\n",
    "Write a program to subtract two complex numbers in Python."
   ]
  },
  {
   "cell_type": "code",
   "execution_count": 21,
   "metadata": {},
   "outputs": [
    {
     "name": "stdout",
     "output_type": "stream",
     "text": [
      "Enter a 1st Complex Number:2+4j\n",
      "Enter a 2nd Complex Number:1+1j\n",
      "(1+3j)\n"
     ]
    }
   ],
   "source": [
    "num1 = complex(input(\"Enter a 1st Complex Number:\"))\n",
    "num2 = complex(input(\"Enter a 2nd Complex Number:\"))\n",
    "Sub = num1 - num2\n",
    "print(Sub)"
   ]
  },
  {
   "cell_type": "markdown",
   "metadata": {},
   "source": [
    "# Question 2\n",
    "\n",
    "Write a program to find the fourth root of a number."
   ]
  },
  {
   "cell_type": "code",
   "execution_count": 3,
   "metadata": {},
   "outputs": [
    {
     "name": "stdout",
     "output_type": "stream",
     "text": [
      "Enter a number:16\n",
      "Fourth root of 16 is 2.0 \n"
     ]
    }
   ],
   "source": [
    "import math\n",
    "num1=int(input(\"Enter a number:\"))\n",
    "fourthroot=math.sqrt(math.sqrt(num1))\n",
    "print(\"Fourth root of {} is {} \".format(num1,fourthroot))"
   ]
  },
  {
   "cell_type": "code",
   "execution_count": null,
   "metadata": {},
   "outputs": [],
   "source": []
  },
  {
   "cell_type": "markdown",
   "metadata": {},
   "source": [
    "# Question 3\n",
    "\n",
    "Write a program to swap two numbers in Python with the help of a temporary variable."
   ]
  },
  {
   "cell_type": "code",
   "execution_count": 4,
   "metadata": {},
   "outputs": [
    {
     "name": "stdout",
     "output_type": "stream",
     "text": [
      "Enter First number:3\n",
      "Enter Second number:4\n",
      "First number changed to: 4\n",
      "Second number changed to: 3\n"
     ]
    }
   ],
   "source": [
    "n1=int(input(\"Enter First number:\"))\n",
    "n2=int(input(\"Enter Second number:\"))\n",
    "temp=0\n",
    "temp=n1\n",
    "n1=n2\n",
    "n2=temp\n",
    "print(\"First number changed to:\",n1)\n",
    "print(\"Second number changed to:\",n2)"
   ]
  },
  {
   "cell_type": "markdown",
   "metadata": {},
   "source": [
    "# Question 4\n",
    "\n",
    "Write a program to swap two numbers in Python without using a temporary variable."
   ]
  },
  {
   "cell_type": "code",
   "execution_count": 9,
   "metadata": {},
   "outputs": [
    {
     "name": "stdout",
     "output_type": "stream",
     "text": [
      "Enter First number:3\n",
      "Enter Second number:4\n",
      "First number changed to: 4\n",
      "Second number changed to: 3\n"
     ]
    }
   ],
   "source": [
    "a=int(input(\"Enter First number:\"))\n",
    "b=int(input(\"Enter Second number:\"))\n",
    "a=a+b\n",
    "b=a-b\n",
    "a=a-b\n",
    "print(\"First number changed to:\",a)\n",
    "print(\"Second number changed to:\",b)"
   ]
  },
  {
   "cell_type": "markdown",
   "metadata": {},
   "source": [
    "# Question 5\n",
    "\n",
    "Write a program to convert Fahrenheit to kelvin and celsius both."
   ]
  },
  {
   "cell_type": "code",
   "execution_count": 13,
   "metadata": {},
   "outputs": [
    {
     "name": "stdout",
     "output_type": "stream",
     "text": [
      "Enter temperature in fahrenheit:40.3\n",
      "fahrenheit to celsius is 4.61111111111111\n",
      "fahrenheit to kelvin is 281.8\n"
     ]
    }
   ],
   "source": [
    "fahrenheit = float(input(\"Enter temperature in fahrenheit:\"))\n",
    "celsius = (fahrenheit-32)*5/9\n",
    "kelvin = 273.5+(fahrenheit-32.0)\n",
    "print(\"fahrenheit to celsius is {}\".format(celsius))\n",
    "print(\"fahrenheit to kelvin is {}\".format(kelvin))"
   ]
  },
  {
   "cell_type": "markdown",
   "metadata": {},
   "source": [
    "# Question 6\n",
    "\n",
    "Write a program to demonstrate all the available data types in Python. Hint: Use type() function."
   ]
  },
  {
   "cell_type": "code",
   "execution_count": 20,
   "metadata": {},
   "outputs": [
    {
     "name": "stdout",
     "output_type": "stream",
     "text": [
      "Type of Puja is <class 'str'>\n",
      "Type of 20 is <class 'int'>\n",
      "Type of 20.3 is <class 'float'>\n",
      "Type of [1, 2, 3] is <class 'list'>\n",
      "Type of {'Key1': 10, 'Key2': 20, 'Key3': 30} is <class 'dict'>\n",
      "Type of (1, 2, 'Puja', 20.11) is <class 'tuple'>\n"
     ]
    }
   ],
   "source": [
    "str1=\"Puja\"\n",
    "print(\"Type of {} is {}\".format(str1,type(str1)))\n",
    "n1=20\n",
    "print(\"Type of {} is {}\".format(n1,type(n1)))\n",
    "f1=20.30\n",
    "print(\"Type of {} is {}\".format(f1,type(f1)))\n",
    "lst1=[1,2,3]\n",
    "print(\"Type of {} is {}\".format(lst1,type(lst1)))\n",
    "dit = {\"Key1\":10, \"Key2\": 20, \"Key3\":30}\n",
    "print(\"Type of {} is {}\".format(dit,type(dit)))\n",
    "tuple1=(1,2,\"Puja\",20.11)\n",
    "print(\"Type of {} is {}\".format(tuple1,type(tuple1)))"
   ]
  },
  {
   "cell_type": "code",
   "execution_count": null,
   "metadata": {},
   "outputs": [],
   "source": []
  }
 ],
 "metadata": {
  "kernelspec": {
   "display_name": "Python 3",
   "language": "python",
   "name": "python3"
  },
  "language_info": {
   "codemirror_mode": {
    "name": "ipython",
    "version": 3
   },
   "file_extension": ".py",
   "mimetype": "text/x-python",
   "name": "python",
   "nbconvert_exporter": "python",
   "pygments_lexer": "ipython3",
   "version": "3.7.3"
  }
 },
 "nbformat": 4,
 "nbformat_minor": 2
}
